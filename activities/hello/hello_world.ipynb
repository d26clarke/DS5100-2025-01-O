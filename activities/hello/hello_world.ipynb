{
 "cells": [
  {
   "cell_type": "markdown",
   "id": "ef04f89e-9575-4e61-a317-3f9499db5ac2",
   "metadata": {},
   "source": [
    "# Using Jupyter Notebooks are Fun !!!"
   ]
  },
  {
   "cell_type": "code",
   "execution_count": 1,
   "id": "034d47ad-3381-4b75-8366-0eb392f3264b",
   "metadata": {
    "tags": []
   },
   "outputs": [
    {
     "name": "stdout",
     "output_type": "stream",
     "text": [
      "Greetings and Salutations...\n"
     ]
    }
   ],
   "source": [
    "print(f\"Greetings and Salutations...\")"
   ]
  },
  {
   "cell_type": "code",
   "execution_count": null,
   "id": "e929015d-2342-4023-86c2-8ec6b2b3e070",
   "metadata": {},
   "outputs": [],
   "source": []
  }
 ],
 "metadata": {
  "kernelspec": {
   "display_name": "Python 3 (ipykernel)",
   "language": "python",
   "name": "python3"
  },
  "language_info": {
   "codemirror_mode": {
    "name": "ipython",
    "version": 3
   },
   "file_extension": ".py",
   "mimetype": "text/x-python",
   "name": "python",
   "nbconvert_exporter": "python",
   "pygments_lexer": "ipython3",
   "version": "3.11.4"
  }
 },
 "nbformat": 4,
 "nbformat_minor": 5
}
